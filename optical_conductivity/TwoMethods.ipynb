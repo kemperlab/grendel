{
 "cells": [
  {
   "cell_type": "markdown",
   "metadata": {},
   "source": [
    "This code accompanies the paper submitted on July 1, 2019: Theory of time-resolved optical conductivity of\n",
    "superconductors: comparing two methods for its evaluation.\n",
    "\n",
    "Here we import the important packages and define the useful functions for this analysis."
   ]
  },
  {
   "cell_type": "code",
   "execution_count": 4,
   "metadata": {},
   "outputs": [
    {
     "name": "stdout",
     "output_type": "stream",
     "text": [
      "Populating the interactive namespace from numpy and matplotlib\n"
     ]
    }
   ],
   "source": [
    "%pylab inline\n",
    "\n",
    "\n",
    "from scipy import interpolate\n",
    "import matplotlib.ticker as mtick\n",
    "from matplotlib.ticker import ScalarFormatter\n",
    "from matplotlib.patches import Rectangle\n",
    "import matplotlib.cm as mplcm\n",
    "from matplotlib.cm import coolwarm\n",
    "from matplotlib.colors import BoundaryNorm\n",
    "from matplotlib.ticker import MaxNLocator\n",
    "from matplotlib.animation import FuncAnimation\n",
    "\n",
    "def fourier_transform(tax,fax,f_t):\n",
    "    M = outer(fax,tax)\n",
    "    A = exp(1.j*M)\n",
    "    return inner(A,f_t)\n",
    "\n",
    "def search(value,axis,error):\n",
    "    for it in arange(len(axis)):\n",
    "        if abs(axis[it]-value) < error:\n",
    "            return it\n",
    "    print(\"Value not found.\")  "
   ]
  },
  {
   "cell_type": "markdown",
   "metadata": {},
   "source": [
    "We generate the data from the .dat files: \n",
    "\n",
    "     t_pp_ax: the values of $t_{pp}$ corresponding to our initial sets of current data.\n",
    "     \n",
    "     E: array containing the probe field as function of $t_{gate}$.\n",
    "     \n",
    "     tax: the time axis (Method I) for the original sets of data and the probe field.\n",
    "     \n",
    "     J: these 60 arrays give the electric current corresponding to the $t_{pp}$  with their associated index in t_pp_ax."
   ]
  },
  {
   "cell_type": "code",
   "execution_count": 5,
   "metadata": {},
   "outputs": [],
   "source": [
    "probe_center = genfromtxt('probe_center.dat')\n",
    "t_pp_ax = probe_center[:,1]\n",
    "E = genfromtxt('E.dat')\n",
    "tax = E[:1150,0]\n",
    "trimmed_E = E[:1150,1]\n",
    "for it in arange(1,60):\n",
    "    globals()['J'+str(it)] = genfromtxt('J'+str(it)+'.dat')"
   ]
  },
  {
   "cell_type": "markdown",
   "metadata": {},
   "source": [
    "Method I Calculation: We take the fourier transforms and calculate $\\sigma$ for the horizontal cuts (Method I in the paper). We store this data in the array original_sigmas, which has dimensions 2x60x1150. The first array index identifies the real or imaginary part of the conductivity: the 0 index corresponds the real part and the 1 index to the imaginary part. The second index identifies which of the 60 sets of data we are referring to and is identified with t_pp_ax. The third index is identified with the frequency axis fax defined in the same cell. For example, [0,0,:] refers to the real part of the conductivity for data set J1. In order to smooth the fourier transform, we multiply the current and electric field by a decaying exponential and pad with zeros (see the definition of variable Jext in the function do_ft() below)."
   ]
  },
  {
   "cell_type": "code",
   "execution_count": 15,
   "metadata": {},
   "outputs": [],
   "source": [
    "fax = fft.fftshift(fft.fftfreq(len(tax),d=0.2))\n",
    "E_ext = E[:1150,1]* exp(-(tax-tax[0])/250)\n",
    "E_w = fourier_transform(tax,fax,E_ext)\n",
    "\n",
    "padding = zeros(575)\n",
    "tau = 250.\n",
    "\n",
    "def do_ft():\n",
    "    original_sigmas = zeros((2,60,1150))\n",
    "    for it in arange(1,60):\n",
    "        J = globals()['J'+str(it)][:,1]\n",
    "        Jext = concatenate((J,padding))*exp(-(tax-tax[0])/tau)\n",
    "        original_sigmas[0,it-1,:] = real(fourier_transform(tax,fax,Jext) / E_w) \n",
    "        original_sigmas[1,it-1,:] = imag(fourier_transform(tax,fax,Jext) / E_w) \n",
    "    return original_sigmas\n",
    "\n",
    "original_sigmas = do_ft()\n",
    "savetxt(\"MethodIreal.dat\",original_sigmas[0,:,:])\n",
    "savetxt(\"MethodIimaginary.dat\",original_sigmas[1,:,:])"
   ]
  },
  {
   "cell_type": "markdown",
   "metadata": {},
   "source": [
    "Method II Calculation: Now we will do the calculation using Method II as described in the paper. We place all of the original data in a 2-dimensional array and interpolate along the vertical axis. Once we have plaed the interpolated data in an array, we shift these data to obtain the current as a function of $t_{gate}$ and $t_{pp}$ and take the fourier transform along the vertical axis (fixed $t_{gate}$) in this array, using these fourier transforms to calculate $\\sigma$. As in Method I, in calculating the fourier transform we multiply the current and electric field by a decaying exponential and pad with zeros. The conductivitites are stored in the array vertical_sigmas, which has dimensions 2x1321x1150. As before, the first index indicates the real or imaginary part, the second index corresponds to the value of $t_{gate}$ (identified with indices of trimmedtax, defined in this cell), and the third index is identified with the same frequency axis fax defined above."
   ]
  },
  {
   "cell_type": "code",
   "execution_count": 16,
   "metadata": {},
   "outputs": [],
   "source": [
    "original_current = zeros((59,575))\n",
    "for it in arange(59):\n",
    "    original_current[it,:] = globals()['J'+str(it+1)][:,1]\n",
    "\n",
    "yspan = max(t_pp_ax) - min(t_pp_ax)\n",
    "new_t_pp_ax = linspace(min(t_pp_ax),max(t_pp_ax),int(5*yspan + 1))   # We define this to supercede t_pp_ax, since it is of smaller spacing.\n",
    "\n",
    "interp_currents = zeros((1896,575))\n",
    "\n",
    "for it in arange(575):\n",
    "    strip = original_current[:,it]\n",
    "    fit_func = interpolate.Akima1DInterpolator(t_pp_ax,strip)\n",
    "    interp_currents[:,it] = fit_func(new_t_pp_ax)\n",
    "\n",
    "shifted_current = zeros((1896,2470))\n",
    "\n",
    "for it in arange(1896):\n",
    "    dt = 0.2\n",
    "    relative_time = new_t_pp_ax[it] - new_t_pp_ax[0]\n",
    "    start_coord = int((1/dt)*relative_time)\n",
    "    shifted_current[it,start_coord:start_coord+575] = interp_currents[it,:]\n",
    "    \n",
    "tmin = min(tax) + min(t_pp_ax)\n",
    "tmax = max(tax) + max(t_pp_ax)\n",
    "\n",
    "fulltax = linspace(tmin,tmax,3045)  # This time axis corresponds to all the values that t_gate may take on after our interpolation.\n",
    "\n",
    "# Now we calculate the conductivities using Method II. We only calculate for a certain range of t_gate so that we are able to take complete \n",
    "# vertical strips.\n",
    "\n",
    "for it in arange(575,1896):\n",
    "    vert = flip(shifted_current[:,it])\n",
    "    constrained = concatenate((vert[argmax(vert)-57:argmax(vert)+518],padding))*exp(-(tax-tax[0])/tau)\n",
    "    FT = fourier_transform(tax,fax,constrained)\n",
    "    globals()['sigma'+str(it)] = FT / E_w\n",
    "    \n",
    "trimmedtax = fulltax[575:1896]\n",
    "trimmed_t_pp_ax = new_t_pp_ax[575:]\n",
    "vertical_sigmas = zeros((2,1321,1150))\n",
    "for it in arange(1321):\n",
    "    vertical_sigmas[0,it,:] = real(globals()['sigma'+str(575+it)])\n",
    "    vertical_sigmas[1,it,:] = imag(globals()['sigma'+str(575+it)])\n",
    "    \n",
    "savetxt(\"MethodIIreal.dat\",vertical_sigmas[0,:,:])\n",
    "savetxt(\"MethodIIimaginary.dat\",vertical_sigmas[1,:,:])"
   ]
  },
  {
   "cell_type": "code",
   "execution_count": 17,
   "metadata": {},
   "outputs": [
    {
     "data": {
      "text/plain": [
       "(2, 1321, 1150)"
      ]
     },
     "execution_count": 17,
     "metadata": {},
     "output_type": "execute_result"
    }
   ],
   "source": []
  }
 ],
 "metadata": {
  "kernelspec": {
   "display_name": "Python 3",
   "language": "python",
   "name": "python3"
  },
  "language_info": {
   "codemirror_mode": {
    "name": "ipython",
    "version": 3
   },
   "file_extension": ".py",
   "mimetype": "text/x-python",
   "name": "python",
   "nbconvert_exporter": "python",
   "pygments_lexer": "ipython3",
   "version": "3.6.7"
  }
 },
 "nbformat": 4,
 "nbformat_minor": 2
}
